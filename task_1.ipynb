{
 "cells": [
  {
   "cell_type": "markdown",
   "metadata": {},
   "source": [
    "### 1. Построение аналитической модели без учёта сопротивления воздуха."
   ]
  },
  {
   "cell_type": "code",
   "execution_count": 4,
   "metadata": {},
   "outputs": [
    {
     "data": {
      "application/vnd.jupyter.widget-view+json": {
       "model_id": "bb53a3bf9ea84f23aa2cb189244690bf",
       "version_major": 2,
       "version_minor": 0
      },
      "text/plain": [
       "interactive(children=(FloatSlider(value=50.0, description='v0', max=300.0, min=1.0, step=1.0), FloatSlider(val…"
      ]
     },
     "metadata": {},
     "output_type": "display_data"
    }
   ],
   "source": [
    "import matplotlib.pyplot as plt\n",
    "import numpy as np\n",
    "from ipywidgets import interact, FloatSlider\n",
    "g = 9.81  # ускорение свободного падения\n",
    "\n",
    "def calc_height(v0, angle, x):\n",
    "    y = (x* np.tan(np.radians(angle))) - ((x**2)*(g/(2*(v0**2) * np.cos(np.radians(angle))**2)))\n",
    "    return max(y, 0) \n",
    "\n",
    "def plot(v0, angle):\n",
    "    L = ((v0**2) * np.sin(np.radians(angle*2))) / g\n",
    "    x = np.linspace(0, L, num=100)\n",
    "    y = [calc_height(v0, angle, n) for n in x]\n",
    "    \n",
    "    plt.figure(figsize=(10, 6))\n",
    "    plt.plot(x, y)\n",
    "    plt.title(\"Траектория полета тела\")\n",
    "    plt.xlabel(\"Расстояние (м)\")\n",
    "    plt.ylabel(\"Высота (м)\")\n",
    "    plt.grid(True)\n",
    "\n",
    "interact(plot, v0=FloatSlider(value=50, min=1, max=300, step=1), angle=FloatSlider(value=45, min=10, max=80, step=1))\n",
    "plt.show()"
   ]
  }
 ],
 "metadata": {
  "kernelspec": {
   "display_name": "Python 3",
   "language": "python",
   "name": "python3"
  },
  "language_info": {
   "codemirror_mode": {
    "name": "ipython",
    "version": 3
   },
   "file_extension": ".py",
   "mimetype": "text/x-python",
   "name": "python",
   "nbconvert_exporter": "python",
   "pygments_lexer": "ipython3",
   "version": "3.12.3"
  }
 },
 "nbformat": 4,
 "nbformat_minor": 2
}
